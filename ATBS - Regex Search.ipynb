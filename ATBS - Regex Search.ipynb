{
 "cells": [
  {
   "cell_type": "code",
   "execution_count": null,
   "id": "f409f56d-5c3e-4841-983e-fc1e14700102",
   "metadata": {},
   "outputs": [],
   "source": [
    "### Project Regex Search\n",
    "\n",
    "from pathlib import Path\n",
    "import os, re\n",
    "\n",
    "p = Path('C:\\\\Users\\\\')\n",
    "\n",
    "txtFiles = list(p.glob('*.txt'))\n",
    "matchReg = re.compile(r'graphics')\n",
    "\n",
    "found = []\n",
    "nomatch = []\n",
    "\n",
    "for file in txtFiles:\n",
    "    \n",
    "    with open(file) as hFile:\n",
    "        txtfile = hFile.read()\n",
    "    \n",
    "    tally = []\n",
    "    for match in re.findall(matchReg, txtfile):\n",
    "        tally.append(match)\n",
    "    \n",
    "    filename = file.name\n",
    "    if tally:\n",
    "        a = f'Matches in \\\"{filename}\\\" are {tally}'\n",
    "        found.append(a)\n",
    "    else:\n",
    "        #b = f'There were no matches found in \\\"{filename}\\\"'\n",
    "        nomatch.append(filename)\n",
    "        \n",
    "\n",
    "print('\\n'.join(found))\n",
    "print('\\nThere were no matches found for: ', *nomatch, sep='\\n')\n",
    "      \n"
   ]
  }
 ],
 "metadata": {
  "kernelspec": {
   "display_name": "Python 3 (ipykernel)",
   "language": "python",
   "name": "python3"
  },
  "language_info": {
   "codemirror_mode": {
    "name": "ipython",
    "version": 3
   },
   "file_extension": ".py",
   "mimetype": "text/x-python",
   "name": "python",
   "nbconvert_exporter": "python",
   "pygments_lexer": "ipython3",
   "version": "3.9.7"
  }
 },
 "nbformat": 4,
 "nbformat_minor": 5
}
