{
 "cells": [
  {
   "cell_type": "code",
   "execution_count": null,
   "id": "f409f56d-5c3e-4841-983e-fc1e14700102",
   "metadata": {},
   "outputs": [],
   "source": [
    "### Project: Mad Libs\n",
    "\n",
    "import re\n",
    "\n",
    "replaceReg = re.compile(r'ADJECTIVE|NOUN|ADVERB|VERB')\n",
    "\n",
    "#open text file and read text\n",
    "htextFile = open(\"txt2.txt\")\n",
    "textFile = htextFile.read()\n",
    "\n",
    "#find matched regex\n",
    "words = replaceReg.findall(textFile)\n",
    "replacewd = []\n",
    "\n",
    "#replace tuple with type, input\n",
    "for key, word in enumerate(words):\n",
    "    word = word.lower()\n",
    "    new = input(f'Enter an {word}:')\n",
    "    word = word.upper()\n",
    "    newkw = [word, new]\n",
    "    replacewd.append(newkw)\n",
    "\n",
    "finalphrase = ''\n",
    "\n",
    "#sub input words into phrase\n",
    "for key, word in replacewd:\n",
    "    newphrase = re.sub(key, word, textFile, 1)\n",
    "    textFile = newphrase\n",
    "\n",
    "finalphrase = textFile\n",
    "print(finalphrase)\n",
    "\n",
    "htextFile.close()\n",
    "htextFile = open(\"txt2.txt\", 'w')\n",
    "htextFile.write(finalphrase)\n",
    "htextFile.close()"
   ]
  }
 ],
 "metadata": {
  "kernelspec": {
   "display_name": "Python 3 (ipykernel)",
   "language": "python",
   "name": "python3"
  },
  "language_info": {
   "codemirror_mode": {
    "name": "ipython",
    "version": 3
   },
   "file_extension": ".py",
   "mimetype": "text/x-python",
   "name": "python",
   "nbconvert_exporter": "python",
   "pygments_lexer": "ipython3",
   "version": "3.9.7"
  }
 },
 "nbformat": 4,
 "nbformat_minor": 5
}
