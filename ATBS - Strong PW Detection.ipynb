{
 "cells": [
  {
   "cell_type": "code",
   "execution_count": null,
   "id": "f409f56d-5c3e-4841-983e-fc1e14700102",
   "metadata": {},
   "outputs": [],
   "source": [
    "### Project - Strong Password Detection\n",
    "#>= 8 characters, Upper and lower, and has >= 1 digit\n",
    "\n",
    "import re\n",
    "\n",
    "char = re.compile(r'\\S{8,}')\n",
    "lower_case = re.compile(r'[a-z]')\n",
    "upper_case = re.compile(r'[A-Z]')\n",
    "digit = re.compile(r'\\d')\n",
    "                   \n",
    "\n",
    "\n",
    "Pass = False\n",
    "\n",
    "while Pass == False:\n",
    "    x = 0\n",
    "    print('Create your Password: \\nMust contain at least 8 characters, a lower case, an upper case, and a digit')\n",
    "    pwInput = input()\n",
    "    \n",
    "    if char.search(pwInput) == None:\n",
    "        print('* Must be at least 8 characters')\n",
    "        x += 1\n",
    "        \n",
    "    if lower_case.search(pwInput) == None:\n",
    "        print('* Must contain one lower case')\n",
    "        x += 1\n",
    "        \n",
    "    if upper_case.search(pwInput) == None:\n",
    "        print('* Must contain an upper case')\n",
    "        x += 1\n",
    "        \n",
    "    if digit.search(pwInput) == None:\n",
    "        print('* Must contain a digit')\n",
    "        x += 1\n",
    "    \n",
    "    if x == 0:\n",
    "        print('Password Saved...')\n",
    "        break\n",
    "        \n",
    "    else: \n",
    "        print('\\n---Please Try Again---\\n')\n",
    "           \n",
    "   "
   ]
  }
 ],
 "metadata": {
  "kernelspec": {
   "display_name": "Python 3 (ipykernel)",
   "language": "python",
   "name": "python3"
  },
  "language_info": {
   "codemirror_mode": {
    "name": "ipython",
    "version": 3
   },
   "file_extension": ".py",
   "mimetype": "text/x-python",
   "name": "python",
   "nbconvert_exporter": "python",
   "pygments_lexer": "ipython3",
   "version": "3.9.7"
  }
 },
 "nbformat": 4,
 "nbformat_minor": 5
}
